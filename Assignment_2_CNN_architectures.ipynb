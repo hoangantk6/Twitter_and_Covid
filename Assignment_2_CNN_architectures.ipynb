{
 "cells": [
  {
   "cell_type": "markdown",
   "source": [
    "## Computational Social Media_Assignment 2\n",
    "Nguyen Hoang An\n",
    "an.nguyen.200011@student.fulbright.edu.vn"
   ],
   "metadata": {
    "collapsed": false,
    "pycharm": {
     "name": "#%% md\n"
    }
   }
  },
  {
   "cell_type": "markdown",
   "source": [
    "Assignment # 2: hands-on exercise with Twitter data\n",
    "\n",
    "## Goals:\n",
    "\n",
    "1. Students are asked to collect a small set of public tweets and perform descriptive analysis, in the context of the covid-19 ongoing situation.\n",
    "\n",
    "2. Through the exercise, students will (a) gain practical skills on how to collect Twitter data; (b) understand collective Twitter practices (using hashtags, sharing URLs, retweeting); and (c) reflect on the use of Twitter data in the context of world health events."
   ],
   "metadata": {
    "collapsed": false,
    "pycharm": {
     "name": "#%% md\n"
    }
   }
  },
  {
   "cell_type": "markdown",
   "source": [
    "## Mission 1: Input data\n",
    "I collect 17.811 tweet data from Fri Nov 19 20:18:11 +0000 2021 to Sat Nov 20 02:29:33 +0000 2021"
   ],
   "metadata": {
    "collapsed": false,
    "pycharm": {
     "name": "#%% md\n"
    }
   }
  },
  {
   "cell_type": "code",
   "execution_count": 2,
   "outputs": [],
   "source": [
    "###\n",
    "# Import library and csv data file\n",
    "#\n",
    "# data: data input\n",
    "# ###\n",
    "\n",
    "import pandas as pd\n",
    "import numpy as np\n",
    "import matplotlib.pyplot as plt\n",
    "import io\n",
    "data = pd.read_csv(\"data.csv\")"
   ],
   "metadata": {
    "collapsed": false,
    "pycharm": {
     "name": "#%%\n"
    }
   }
  },
  {
   "cell_type": "code",
   "execution_count": 3,
   "outputs": [
    {
     "name": "stdout",
     "output_type": "stream",
     "text": [
      "                                 time                   id  \\\n",
      "0      Fri Nov 19 20:18:11 +0000 2021  1461790930772582405   \n",
      "1      Fri Nov 19 20:21:41 +0000 2021  1461791811450642433   \n",
      "2      Fri Nov 19 20:21:42 +0000 2021  1461791817658216449   \n",
      "3      Fri Nov 19 20:21:43 +0000 2021  1461791822167040003   \n",
      "4      Fri Nov 19 20:21:44 +0000 2021  1461791826994728974   \n",
      "...                               ...                  ...   \n",
      "17807  Sat Nov 20 02:29:30 +0000 2021  1461884375436455936   \n",
      "17808  Sat Nov 20 02:29:30 +0000 2021  1461884378481496066   \n",
      "17809  Sat Nov 20 02:29:31 +0000 2021  1461884378703826944   \n",
      "17810  Sat Nov 20 02:29:32 +0000 2021  1461884383707779072   \n",
      "17811  Sat Nov 20 02:29:33 +0000 2021  1461884388535418896   \n",
      "\n",
      "                                                    text    url  retweet  \\\n",
      "0      RT @watch_union: Fast 2 Jahre #Coronavirus-Pan...   True     True   \n",
      "1      RT @LuzBelindaFE: Nunca os dejéis “vacunar” si...  False     True   \n",
      "2      More than meets the eye: #COVID may cause #sig...   True    False   \n",
      "3      I love this photo of my #DreamTeam How joyful ...   True    False   \n",
      "4      RT @LetItShine69: #Rotterdam (#Hollande) en di...  False     True   \n",
      "...                                                  ...    ...      ...   \n",
      "17807  RT @Joel_Agius1: The people out protesting tod...  False     True   \n",
      "17808  RT @FPathinee: #ขายสิทธิ์Moderna full dose\\n\\n...  False     True   \n",
      "17809  RT @Ninijuk049: ทำไมวัคซีนlot นี้มีอายุเพียง 3...  False     True   \n",
      "17810  Salud reporta cinco personas fallecidas por co...   True    False   \n",
      "17811  RT @Psidinim: @__Carlota @ServignatOlivi1 @She...   True     True   \n",
      "\n",
      "       pfizer  moderna  astrazeneca  janssen  verocell user_screen_name  \\\n",
      "0       False    False        False    False     False      AngieStone_   \n",
      "1       False    False        False    False     False    juanjonieto79   \n",
      "2       False    False        False    False     False            VCSTX   \n",
      "3       False    False        False    False     False          apmmy92   \n",
      "4       False    False        False    False     False           SLb_74   \n",
      "...       ...      ...          ...      ...       ...              ...   \n",
      "17807   False    False        False    False     False       MordyChick   \n",
      "17808   False    False        False    False     False      nichakornln   \n",
      "17809   False    False        False    False     False     sayparimpim_   \n",
      "17810   False    False        False    False     False        moopiocom   \n",
      "17811   False    False        False    False     False          T6CT6C6   \n",
      "\n",
      "      retweeted_screen_name       creator  \\\n",
      "0               watch_union   watch_union   \n",
      "1              LuzBelindaFE  LuzBelindaFE   \n",
      "2                       NaN         VCSTX   \n",
      "3                       NaN       apmmy92   \n",
      "4              LetItShine69  LetItShine69   \n",
      "...                     ...           ...   \n",
      "17807           Joel_Agius1   Joel_Agius1   \n",
      "17808             FPathinee     FPathinee   \n",
      "17809            Ninijuk049    Ninijuk049   \n",
      "17810                   NaN     moopiocom   \n",
      "17811              Psidinim      Psidinim   \n",
      "\n",
      "                                     creator_description  \\\n",
      "0      Tagespolitische Kommentare und Nachrichten run...   \n",
      "1      DIPUTADA 🇪🇸 (Almería) en @ParlamentoAnd Indepe...   \n",
      "2      Medical Doctor, PhD, research science &tech ad...   \n",
      "3                           DHT secondary & art teacher.   \n",
      "4      Idéaliste invétéré et amoureux du Cœur, je ché...   \n",
      "...                                                  ...   \n",
      "17807  Writer. Catholic. Mental Health. Contributor @...   \n",
      "17808  💜Taeyeon💜 / 🐦#PARKWOOJIN🐦#박우진🐦/ SNSD / #AB6IX ...   \n",
      "17809               ชีวิตมีอะไร กำลังมี และไม่มีอะไร 🐃🍃🐾   \n",
      "17810  Todas las noticias del Paraguay en un solo lug...   \n",
      "17811  Libre penseur, anticonformiste et bienveillant...   \n",
      "\n",
      "                                            hashtags language  timestamps_ms  \n",
      "0                               Coronavirus;Sachsen;       de  1637353091315  \n",
      "1                                                NaN       es  1637353301285  \n",
      "2                               COVID;sight;hearing;       en  1637353302765  \n",
      "3                                         DreamTeam;       en  1637353303840  \n",
      "4      Rotterdam;Hollande;PassSanitaire;vaccination;       fr  1637353304991  \n",
      "...                                              ...      ...            ...  \n",
      "17807                                            NaN       en  1637375370259  \n",
      "17808                              ขายสิทธิ์Moderna;       th  1637375370985  \n",
      "17809                                            NaN       th  1637375371038  \n",
      "17810                                            NaN       es  1637375372231  \n",
      "17811                                            NaN      und  1637375373382  \n",
      "\n",
      "[17812 rows x 17 columns]\n"
     ]
    }
   ],
   "source": [
    "###\n",
    "# Print data to check\n",
    "# ###\n",
    "print(data)"
   ],
   "metadata": {
    "collapsed": false,
    "pycharm": {
     "name": "#%%\n"
    }
   }
  },
  {
   "cell_type": "markdown",
   "source": [
    "## Mission 2: Compute the following descriptive statistics on the dataset:\n",
    "\n",
    "1. Percentage of tweets that contain URLs\n",
    "2. Percentage of tweets that are (or contain) retweets.\n",
    "3. Percentage of tweets that contain vaccination hashtags/keywords (%pfizer, %moderna, %astrazeneca, %janssen, %verocell).\n",
    "4. Distribution of languages declared in the tweet metadata (%EN, %FR,....)\n",
    "5. Table of the 30 most frequent hashtags in the following format: [rank, hashtag, frequency]. Example: [1, #coronavirus, 2500]"
   ],
   "metadata": {
    "collapsed": false,
    "pycharm": {
     "name": "#%% md\n"
    }
   }
  },
  {
   "cell_type": "code",
   "execution_count": 5,
   "outputs": [
    {
     "name": "stdout",
     "output_type": "stream",
     "text": [
      "Percentage of tweets that contain URLs: 36.44%\n",
      "Percentage of tweets that are (or contain) retweets: 65.93%\n",
      "Percentage of tweets that contain Pfizer hashtag: 0.53%\n",
      "Percentage of tweets that contain Moderna hashtag: 0.26%\n",
      "Percentage of tweets that contain Astrazeneca hashtag: 0.02%\n",
      "Percentage of tweets that contain Janssen hashtag: 0.0%\n",
      "Percentage of tweets that contain Verocell hashtag: 0.0%\n"
     ]
    },
    {
     "data": {
      "text/plain": "<Figure size 432x288 with 1 Axes>",
      "image/png": "[encoded data removed]"
     },
     "metadata": {
      "needs_background": "light"
     },
     "output_type": "display_data"
    },
    {
     "name": "stdout",
     "output_type": "stream",
     "text": [
      "Distribution of languages declared in the tweet metadata\n",
      "   language distribution\n",
      "0        en       45.99%\n",
      "1        es       13.93%\n",
      "2        fr       12.99%\n",
      "3        de        8.21%\n",
      "4       und        5.42%\n",
      "5        nl        3.97%\n",
      "6        it         2.9%\n",
      "7        pt        1.49%\n",
      "8        pl        0.99%\n",
      "9        tr        0.84%\n",
      "10       ja        0.45%\n",
      "11       th         0.4%\n",
      "12       el        0.31%\n",
      "13       hi        0.29%\n",
      "14       ta        0.25%\n",
      "15       in        0.21%\n",
      "16       ca        0.19%\n",
      "17       zh        0.16%\n",
      "18       hu         0.1%\n",
      "19       da         0.1%\n",
      "20       cs        0.09%\n",
      "21       sv        0.07%\n",
      "22       sr        0.07%\n",
      "23       ar        0.07%\n",
      "24       et        0.06%\n",
      "25       tl        0.05%\n",
      "26       ro        0.04%\n",
      "27       fa        0.04%\n",
      "28       ru        0.04%\n",
      "29       fi        0.04%\n",
      "30       lt        0.03%\n",
      "31       no        0.03%\n",
      "32       mr        0.02%\n",
      "33       ht        0.02%\n",
      "34       gu        0.02%\n",
      "35       ko        0.01%\n",
      "36       vi        0.01%\n",
      "37       ml        0.01%\n",
      "38       eu        0.01%\n",
      "39       my        0.01%\n",
      "40       iw        0.01%\n",
      "41       ur        0.01%\n",
      "42      ckb        0.01%\n",
      "43       cy        0.01%\n",
      "44       sl        0.01%\n",
      "45       pa        0.01%\n",
      "\n",
      "Table of the 30 most frequent hashtags:\n",
      "    rank        hashtag  frequency\n",
      "0      1          Covid       1520\n",
      "1      2          COVID       1184\n",
      "2      3        COVID19       1119\n",
      "3      4    coronavirus       1098\n",
      "4      5          covid        886\n",
      "5      6         Pfizer        760\n",
      "6      7    Coronavirus        655\n",
      "7      8      Rotterdam        577\n",
      "8      9        Moderna        529\n",
      "9     10        vaccine        526\n",
      "10    11       Covid_19        486\n",
      "11    12    vaccination        403\n",
      "12    13         Corona        324\n",
      "13    14  GetVaccinated        318\n",
      "14    15        Covid19        215\n",
      "15    16     Vaccinatie        182\n",
      "16    17        Vaccine        162\n",
      "17    18       COVIDー19        158\n",
      "18    19       lockdown        153\n",
      "19    20        Freitag        150\n",
      "20    21         Macron        146\n",
      "21    22    PaisesBajos        137\n",
      "22    23       Autriche        125\n",
      "23    24        Austria        110\n",
      "24    25        covid19        109\n",
      "25    26            CDC        108\n",
      "26    27  PassSanitaire        106\n",
      "27    28       vaccinée        106\n",
      "28    29         vaccin        105\n",
      "29    30    2Gweigeraar        103\n"
     ]
    }
   ],
   "source": [
    "###\n",
    "# Compute the percentage of these data.\n",
    "# I transfer raw data to 'pandas.core.series.Series' data to easy to compute the number of each data\n",
    "#\n",
    "# url          the number of true/false value in url column\n",
    "# pfizer       the number of true/false value in pfizer column\n",
    "# moderna      the number of true/false value in moderna column\n",
    "# astrazeneca  the number of true/false value in astrazeneca column\n",
    "# janssen      the number of true/false value in janssen column\n",
    "# verocell     the number of true/false value in verocell column\n",
    "# language     the number of each kind of language in data base\n",
    "# hashtag      the number of each kind of hashtag in data base\n",
    "# top_hashtag_freq    the 30 most frequent hashtags\n",
    "# ###\n",
    "\n",
    "url=data['url'].value_counts()\n",
    "retweet=data['retweet'].value_counts()\n",
    "pfizer=data['pfizer'].value_counts()\n",
    "moderna=data['moderna'].value_counts()\n",
    "astrazeneca=data['astrazeneca'].value_counts()\n",
    "janssen=data['janssen'].value_counts()\n",
    "verocell=data['verocell'].value_counts()\n",
    "language=data['language'].value_counts()\n",
    "\n",
    "hashtag=[]\n",
    "#Collect each hashtag\n",
    "for tags in data['hashtags']:\n",
    "    for tag in str(tags).split(\";\"):\n",
    "        if len(tag)>0 and tag!='nan':\n",
    "            hashtag.append(tag)\n",
    "#Tranfer data to 'pandas.core.series.Series'\n",
    "hashtag = pd.Series(np.array(hashtag))\n",
    "#Print answer\n",
    "#get(1): get number of the True data\n",
    "#get(0): get number of the False data\n",
    "print(\"Percentage of tweets that contain URLs: \"+str(round(url.get(1)/len(data)*100,2))+\"%\")\n",
    "print(\"Percentage of tweets that are (or contain) retweets: \"+str(round(retweet.get(1)/len(data)*100,2))+\"%\")\n",
    "print(\"Percentage of tweets that contain Pfizer hashtag: \"+str(round(pfizer.get(1)/len(data)*100,2))+\"%\")\n",
    "print(\"Percentage of tweets that contain Moderna hashtag: \"+str(round(moderna.get(1)/len(data)*100,2))+\"%\")\n",
    "print(\"Percentage of tweets that contain Astrazeneca hashtag: \"+str(round(astrazeneca.get(1)/len(data)*100,2))+\"%\")\n",
    "print(\"Percentage of tweets that contain Janssen hashtag: \"+str(round((len(data)-janssen.get(0))/len(data)*100,2))+\"%\")\n",
    "print(\"Percentage of tweets that contain Verocell hashtag: \"+str(round((len(data)-verocell.get(0))/len(data)*100,2))+\"%\")\n",
    "\n",
    "#Draw the distribution of languages in database\n",
    "plt.bar(np.array(language.keys()),np.array(language[language.keys()]), color='red')\n",
    "plt.xlabel(\"Language\")\n",
    "plt.ylabel(\"Frequency\")\n",
    "plt.title(\"Languages in the tweet metadata\")\n",
    "plt.show()\n",
    "\n",
    "per_lan=[]\n",
    "for i in language.keys():\n",
    "    per_lan.append(str(round(language.get(i)/len(data)*100,2))+'%')\n",
    "print('Distribution of languages declared in the tweet metadata')\n",
    "print(pd.DataFrame({'language':language.keys(), 'distribution':per_lan}))\n",
    "print()\n",
    "#Print the top 30 most frequent hashtags\n",
    "print(\"Table of the 30 most frequent hashtags:\")\n",
    "top_hashtag_keys=hashtag.value_counts()[:30].keys()\n",
    "top_hashtag_freq=[]\n",
    "#Reform database: [rank, hashtag, frequency]\n",
    "for i in top_hashtag_keys:\n",
    "    top_hashtag_freq.append(hashtag.value_counts().get(i))\n",
    "print( pd.DataFrame({'rank':range(1,31),'hashtag':top_hashtag_keys, 'frequency':top_hashtag_freq}))\n",
    "\n"
   ],
   "metadata": {
    "collapsed": false,
    "pycharm": {
     "name": "#%%\n"
    }
   }
  },
  {
   "cell_type": "markdown",
   "source": [
    "## Mission 3: Using the Twitter handles you chose in step 3, compute the following statistics:\n",
    "1. Percentage of tweets directly generated by all the 20 media accounts together.\n",
    "e.g.: 3% of tweets were produced by the 20 media accounts altogether\n",
    "2. Percentage of tweets directly generated by the 20 NGOs/gov. accounts.\n",
    "e.g.: 5% of tweets were produced by the 20 NGOs/government accounts.\n",
    "3. Percentage of tweets generated by all the 20 media accounts that appear as retweets in the sample.\n",
    "4. Percentage of tweets generated by all the 20 NGOs/gov. accounts that appear as retweets in the sample."
   ],
   "metadata": {
    "collapsed": false,
    "pycharm": {
     "name": "#%% md\n"
    }
   }
  },
  {
   "cell_type": "code",
   "execution_count": 6,
   "outputs": [
    {
     "name": "stdout",
     "output_type": "stream",
     "text": [
      "creator          retweet  description                                                                                                                                                     \n",
      "GVDBossche       True     PhD, DVM\\nIndependent Vaccine Research Consultant\\nVaccine Discovery & Preclinical Research.                                                                        778\n",
      "Laurie_Garrett   True     Former Sr Fellow @CFR_org. Recipient of Pulitzer Prize, Polk (2Xs) and Peabody Awards. Author: IHeard theSirensScream, TheComingPlague, Ebola & BetrayalofTrust.    247\n",
      "MSmitje          True     married to partner in crime @BerkelaarTom 🥰 on Parler and GAB @ MariskaB                                                                                            188\n",
      "njoyflyfishing   False    Global Venture Captial and Private Equity/Business Development Professional                                                                                         181\n",
      "AUSTROHNGARO2    True     No se podía saber. Nadie atrás. Escudo social. Gobierno del pueblo. Salimos más fuertes. Un vacunado un voto. AGENDA 2030. The Great Reset 2030.                    168\n",
      "                                                                                                                                                                                             ... \n",
      "SeanRohan32      False    Political & Disability rights activist. Love 🇮🇪 & 🇪🇺 @TheSNP 🏴󠁧󠁢󠁳󠁣󠁴󠁿 & #FreePalestine🇵🇸,  @acmilan ⚽️ & @dropkickmurphys Fan #GazaUnderAttack                         1\n",
      "SecInfoWatch     False    Featuring targeted security news & information for end-users, executives, vendors, dealers, integrators & more. Updates by Joel Griffin and Paul Rothman.             1\n",
      "Secoutris        False    Secret Recruit εκ Λίμνης (Ελύμνιον🇬🇷) Ευβοίας                                                                                                                         1\n",
      "Sedebecompartir  False    Un espacio de difusión y opinión del acontecer nacional e internacional - Coronavirus - Covid19 - Política - Ciencia y más\\n\\nPor la razón y la evidencia !           1\n",
      "SamisoniPareti   False    Island journalist, for being too long in the job, has acquired the bad habit of being cynical and asking all the wrong questions. Bula!                               1\n",
      "Length: 6064, dtype: int64\n",
      "-----------------------\n",
      "We have 334 account which have media keywords in description:\n",
      "['Mediavenir', 'HelenBranswell', 'theage', 'miamalan', 'GovKathyHochul', 'News12', 'VigilantFox', 'AlikaMD', 'maartenbrink', 'News247Covid', 'EpochTimes', 'aajtak', 'dcexaminer', 'MirageNewsCom', 'UN_News_Centre', 'jesse_072', 'ElAmerican_', 'ParliamoDiNews', 'Joel_Agius1', 'Ruptly', 'EvanKirstel', 'alan_poirier', 'taypeinternat', 'newsoneplace', 'Jerusalem_Post', 'ChinaDaily', 'EpochTimesChina', 'UKHSA', 'MediasetTgcom24', 'Elenee_Dao', 'SunnyVMD', 'beingrichard', 'donie', 'Alaska_DHSS', 'morandiniblog', 'JennaEllisEsq', 'natlawreview', 'beingrichard', 'amna_news', 'RT_com', 'RaiNews', 'tryingBot05', 'juliemaclellan', 'euroweeklynews', 'HelenBranswell', 'VaxxedGotDuped', 'NKossovan', 'positanonews', 'StockRoad2', 'SunnyVMD', 'tobysnews', 'SkyNews', 'AGN_noticias', 'ScarcityStudios', 'uniindianews', 'NST_Online', 'AshleyKaiserTV', 'LsrHidalgo', 'KlatvF', 'news_ntd', 'ChrisCostaTV', 'Joel_Agius1', 'indianz', 'blogTO', 'LocalCltNews', 'LibreQg', 'HighNoonMedia', 'MNowNews', 'NST_Online', 'Kalaignarnews', 'JerseyMatters', 'MicrobesInfo', 'MicrobesInfo', 'Observer20211', 'NepalNewsEng', 'News12', 'MarkCeo01', 'kyodo_english', 'joliclown', 'stock_titan', 'sol3news', 'euronews', 'TgLa7', 'StarTribune', 'VigilantFox', 'UN_News_Centre', 'PressHerald', 'dailyyonder', 'cheryl_fahling', 'caryn_lieberman', 'airnewsalerts', 'accuweather', '_InsideTheStory', 'boca_meda', 'blogTO', 'ann_brown2828', 'Alaska_DHSS', 'DavidCBarron', 'DiariLiffey', 'Gasabo_District', 'AFP', 'AGN_noticias', 'AshleyKaiserTV', 'ElAmerican_', 'DinakaranNews', 'FUTURENEWS2020', 'FXstreetNews', 'AnomiePotpourri', 'ArabNewsjp', '8NEWS', 'CityNewsVAN', 'CityNewsVAN', 'BreakingNews_RS', 'BreakingNews_RS', 'hawthorne_hctv', 'h24news_ie', 'h24news_nz', 'haringeycouncil', 'asisten_si', 'asisten_si', 'imminent_news', 'i24NEWS_EN', 'azowragbak', 'BusinessMintt', 'azowragbak', 'Bhekisisa_MG', 'jesse_072', 'jessgowithit__', 'justfal516', 'indianz', 'infonewskelowna', 'infonewsvernon', 'insidethegames', 'insidethegames', 'CasinCrow', 'colorblindk1d', 'CentrSqr_Mo_Joe', 'CentivoxMedia', 'dcexaminer', 'CapitalNWNews', 'cronkitenews', 'cronkitenews', 'crooksandliars', 'csgazette', 'ChinaScience', 'brazilcham', 'ChinaDaily', 'CheshireEast', 'bneintellinews', 'caryn_lieberman', 'ChristianNewz', 'cfwriter', 'fermanaghomagh', 'elsamarthagtz', 'eltiempolatino', 'eltiempolatino', 'CHEXNewswatch', 'edgarfabianvf', 'CBCAdrianH', 'CBCAdrianH', 'fcuking_news', 'CE_ChinaEconomy', 'euronewsde', 'euroweeklynews', 'Citizen4Sci', 'drwb12', 'dutchtimes_nl', 'ecom_news', 'CaccioppoliMike', 'dotLA', 'douglaskarr', 'Citizen4Sci', 'shanoorseervai', 'shamusa_ocampo', 'securityledger', 'stessewsen', 'stock_titan', 'spieckerman', 'richiewhitt', 'realmonsanto', 'russellcris', 'Agenzia_Italia', 'xtoday365', 'www_healthecon', 'zee24taasnews', '15minutosUSA', 'the_informertv', 'thatsTamil', 'thatsTamil', 'theartofadaml', 'AIT_News', 'thewalrus', '7NewsSydney', 'tv9gujarati', 'tv9gujarati', 'uOttawaMedia', 'theyorkmix', '8worldnews', '8NEWS', 'punjabkesari', 'pthibaut', 'manitoba_post', 'maartenbrink', 'maalaimalar', 'maharashtracity', 'AsianetNewsML', 'lankasrinetwork', 'Barrie360', 'livemint', 'livemint', 'littleindiaapp', 'liprguy', 'BNCNews', 'lethnewsnow', 'polluxc', 'AlikaMD', 'physorg_com', 'nareshkumarmph', 'natlawreview', 'ArabNewsjp', 'mjrieger', 'notamused666', 'news_ntd', 'news_view', 'newsflash_TF', 'newsoneplace', 'ColoStateNews', 'FXstreetNews', 'FUTURENEWS2020', 'MarionRSills', 'MarionRSills', 'MediasetTgcom24', 'FocusWashington', 'Forbes_MENA_', 'LsrHidalgo', 'Forbes_MENA_', 'ManitobaPost', 'MSyallpolitics', 'NolaByline', 'NolaByline', 'PRforAnyone', 'PWheatstraw99', 'Elana_Gordon', 'OncologyTimes', 'Elenee_Dao', 'Opoyis', 'NewslineTCI', 'MirageNewsCom', 'MmegiOnline', 'MoleyIbrox', 'MurphyWoodhouse', 'NationBarbados', 'NationBarbados', 'NYCMayor', 'NeilMcMahon', 'EpochTimes', 'NewsGto', 'JPMajor', 'JPMajor', 'IslandSocTrends', 'IslandSocTrends', 'IranNewsUpdate1', 'IranNewsUpdate1', 'JerseyMatters', 'Jerusalem_Post', 'JoHnnY_Btm', 'GeorgeArztComm', 'GratefulWolf', 'IndiaToday', 'InfoNewsKam', 'InfoNewsPentict', 'InsideCroydon', 'IdeallyaNews', 'GovKathyHochul', 'La_Cerca', 'KontanNews', 'FraLauricella', 'LeesaTruesdell', 'JulianaAisyahM1', 'GammonBaitNews', 'KToraCamp1', 'DailyNews_lk', 'TruNews', 'Daniele20052013', 'Veracruzanos_', 'VincentMele92', 'DawnNeesom', 'TheGlobalHerald', 'TheMandarinAU', 'DavidCBarron', 'Tikker_17', 'Tikker_17', 'accuweather', 'abpsanjha', 'Contagion_Live', 'aajtak', 'Contagion_Live', '__viznews__', 'amna_news', 'amwajmedia', 'amwajmedia', 'airnewsalerts', 'ColorsSounds', 'ComercioCO', 'Commentary', 'WeForNews', 'VirginMediaNews', 'VtvGujarati', 'WDRaktuell', '_InsideTheStory', 'Zee24Kalak', 'CovidPete', 'WithyGrove', 'ZaviousM', 'Dr_AFN', 'DrugDeliveryNow', 'RomeSentinel', 'DubrovnikTimes', 'PharmaProWorld', 'PlenoNews', 'ParisSemansky', 'ParisSemansky', 'Peregrinus111', 'Quicktake', 'RT_com', 'PressHerald', 'RudiKellerMI', 'SilvestriP', 'DenverGazette', 'StockRoad2', 'DrBrianMcD', 'SamanthaWells02', 'ScarcityStudios', 'SecInfoWatch']\n",
      "We have 71 account which have NGO/government keywords in description:\n",
      "['oakentersagain', 'SimonBanksHB', 'GovKathyHochul', 'ScotGovFM', 'Susana_1_1969', 'RealTimeCOVID19', 'WIBC_EricBerman', 'MauVila', 'WADeptHealth', 'visho1988', 'CovidvaxDEL', 'CovidvaxDEL', 'RochdaleCouncil', 'dumicf', 'PCGTW', 'Just10kase', 'JUSTICE_JUSTHIS', 'ItsShermanBrown', 'msaludpy', 'webefapa', 'scotgoveconomy', 'RealTimeCOVID19', 'PoliticalSphinx', 'emigbusquet', 'HHS_ASH', 'bosnianbeast27', 'HHS_Global', 'Aspies123', 'FDoringCasar', 'juan3pueblo', 'CardosoEsdras84', 'dwatchnews_nam', 'CSigmaShow', 'Abel19131812', 'smocasso', 'AlbertaNational', 'vaccineflstate', 'macca_jan', 'macca_jan', 'BeaconMosque', 'lee_3po', 'leorahorwitzmd', 'AmayaNicky', 'polluxc', 'pistachenews', 'oakentersagain', 'Fascinacion2001', 'FMGLaw', 'Lupo1960', 'NoAFD_BTW25', 'PCGTW', 'Outlaw__X', 'MuttMan72', 'Nalle_Martinez1', 'NYCMayor', 'GeorgeArztComm', 'HHS_Global', 'GovKathyHochul', 'FuerzaCoriolis', 'FreedomWorks', 'Lexipol', 'KisselKohoutES', 'JorgeBenezra', 'GCIOMedia', 'UnifiedGovt', 'TheMotive9', 'WADeptHealth', 'Covid19AO_Stats', 'Yi_Benevolence', 'Susana_1_1969', 'Seymour_Freely']\n"
     ]
    }
   ],
   "source": [
    "###\n",
    "#  Find 20 media organizations and 20 NGO or government public officials that are tweeting about the covid-19 pandemic (e.g., @nytimes)\n",
    "#  First I collect media organization and NGO/government officials base on keywords in its description\n",
    "#  Second, I sort them by pandas DataFrame to have the most popular media organization and NGO/government officials. I assume that the most popular is real media organization/ NGO/GOV officials.\n",
    "#  Finally, I search their name in twitter, confirm and put it in list of 20 media organizations and 20 NGO or government public officials\n",
    "#\n",
    "#  creator  The people/organization who create directly create contents, I collect screen name, retweet status to know retweet/direct, and description\n",
    "#  media    The account which have 'media', 'news' keywords in its description\n",
    "#  ngo_gov  The account which have 'ngo', 'gov', keywords in its description\n",
    "#  media_keyword      The keywords to find media\n",
    "#  ngo_gov_keyword    The keywords to find ngo_gov\n",
    "#\n",
    "###\n",
    "media=[]\n",
    "ngo_gov=[]\n",
    "media_keyword=['media','news']\n",
    "ngo_gov_keyword=['ngo','gov']\n",
    "creator=pd.DataFrame({'creator':data['creator'], 'retweet':data['retweet'], 'description':data['creator_description']})\n",
    "creator=creator.value_counts() #sort data, transfer to 'pandas.core.series.Series'\n",
    "#print data to check\n",
    "print(creator)\n",
    "print(\"-----------------------\")\n",
    "\n",
    "for i in creator.keys():\n",
    "    #i[0]: name of creator\n",
    "    #i[2]: description of creator\n",
    "    if any(keyword in i[2] for keyword in media_keyword):\n",
    "        media.append(i[0])\n",
    "    if any(keyword in i[2]for keyword in ngo_gov_keyword):\n",
    "        ngo_gov.append(i[0])\n",
    "#Print all potential media organizations and NGO or government public officials\n",
    "print(\"We have \"+str(len(media))+\" account which have media keywords in description:\")\n",
    "print(media)\n",
    "print(\"We have \"+str(len(ngo_gov))+\" account which have NGO/government keywords in description:\")\n",
    "print(ngo_gov)"
   ],
   "metadata": {
    "collapsed": false,
    "pycharm": {
     "name": "#%%\n"
    }
   }
  },
  {
   "cell_type": "code",
   "execution_count": 30,
   "outputs": [
    {
     "name": "stdout",
     "output_type": "stream",
     "text": [
      "Percentage of tweets directly generated by all the 20 media accounts together:0.33%\n",
      "Percentage of tweets directly generated by the 20 NGOs/gov accounts together: 0.07%\n",
      "Percentage of tweets generated by all the 20 media accounts that appear as retweets in the sample: 1.42%\n",
      "Percentage of tweets generated by all the 20 media accounts that appear as retweets in the sample: 0.55%\n"
     ]
    }
   ],
   "source": [
    "###\n",
    "# After search and confirm their name in twitter, I have a top list 20 of:\n",
    "# Media: Mediavenir, theage, News12, News247Covid, EpochTimes, aajtak,dcexaminer, MirageNewsCom, UN_News_Centre,ElAmerican_,\n",
    "# ParliamoDiNews, taypeinternat, newsoneplace, Jerusalem_Post, ChinaDaily, EpochTimesChina, MediasetTgcom24, natlawreview,amna_news, RT_com\n",
    "# NGO/Government: GovKathyHochul, ScotGovFM, RealTimeCOVID19, WADeptHealth,CovidvaxDEL, RochdaleCouncil, PCGTW, msaludpy, scotgoveconomy, HHS_Global\n",
    "# dwatchnews_nam, AlbertaNational, vaccineflstate, BeaconMosque, GeorgeArztComm, Lexipol,GCIOMedia, UnifiedGovt, WADeptHealth, UKHSA\n",
    "#\n",
    "# media_20: List of top 20 popular media organization\n",
    "# ngo_gov_20: List of top 20 popular NGO or government public officials\n",
    "# ###\n",
    "media_20=['Mediavenir', 'theage', 'News12', 'News247Covid', 'EpochTimes', 'aajtak', 'dcexaminer', 'MirageNewsCom', 'UN_News_Centre', 'ElAmerican_',\n",
    "          'ParliamoDiNews', 'taypeinternat', 'newsoneplace', 'Jerusalem_Post', 'ChinaDaily', 'EpochTimesChina', 'MediasetTgcom24', 'natlawreview', 'amna_news', 'RT_com']\n",
    "ngo_gov_20=['GovKathyHochul', 'ScotGovFM', 'RealTimeCOVID19', 'WADeptHealth', 'CovidvaxDEL', 'RochdaleCouncil', 'PCGTW', 'msaludpy', 'scotgoveconomy', 'HHS_Global',\n",
    "            'dwatchnews_nam', 'AlbertaNational', 'vaccineflstate', 'BeaconMosque', 'GeorgeArztComm', 'Lexipol,GCIOMedia', 'UnifiedGovt', 'WADeptHealth', 'UKHSA']\n",
    "\n",
    "media_20_direct=0\n",
    "media_20_retweet=0\n",
    "ngo_gov_20_direct=0\n",
    "ngo_gov_20_retweet=0\n",
    "\n",
    "for med in media_20:\n",
    "    #if not retweet, media direct plus its direct frequency\n",
    "    try:\n",
    "        media_20_direct+=int(creator.get(med).get(False))\n",
    "    except:\n",
    "        media_20_direct+=0\n",
    "\n",
    "    #if retweet, media retweet plus its retweet frequency\n",
    "    try:\n",
    "        media_20_retweet+=int(creator.get(med).get(True))\n",
    "    except:\n",
    "        media_20_retweet+=0\n",
    "\n",
    "for nv in ngo_gov_20:\n",
    "    #if not retweet, ngo_gov direct plus its direct frequency\n",
    "    try:\n",
    "        ngo_gov_20_direct+=int(creator.get(nv).get(False))\n",
    "    except:\n",
    "        ngo_gov_20_direct+=0\n",
    "\n",
    "    #if retweet, ngo_gov retweet plus its retweet frequency\n",
    "    try:\n",
    "        ngo_gov_20_retweet+=int(creator.get(nv).get(True))\n",
    "    except:\n",
    "        ngo_gov_20_retweet+=0\n",
    "\n",
    "print('Percentage of tweets directly generated by all the 20 media accounts together:'+str(round(media_20_direct/len(data)*100,2))+\"%\")\n",
    "print('Percentage of tweets directly generated by the 20 NGOs/gov accounts together: '+str(round(ngo_gov_20_direct/len(data)*100,2))+\"%\")\n",
    "print('Percentage of tweets generated by all the 20 media accounts that appear as retweets in the sample: '+str(round(media_20_retweet/len(data)*100,2))+\"%\")\n",
    "print('Percentage of tweets generated by all the 20 media accounts that appear as retweets in the sample: '+str(round(ngo_gov_20_retweet/len(data)*100,2))+\"%\")"
   ],
   "metadata": {
    "collapsed": false,
    "pycharm": {
     "name": "#%%\n"
    }
   }
  },
  {
   "cell_type": "markdown",
   "source": [
    "## Mission 4: Discuss in a couple of lines the results of mission 2 & 3. Are any of the results unexpected? Why?\n",
    "\n",
    "Mission 2:\n",
    "- The percentage of retweets is 65.93%, so that percentage of direct tweets is 34.07%. The ratio ~2:1, that mean in the time I collect data, 1 Covid post have 2 retweets appear.\n",
    "- The percentage of Jassen and Verocell are 0%. That mean in the time I collect data, there are no hashtag mention about Jassen and Verocell. And the percentage of Prizer is 0.53%, Moderna is 0.26%, Astrazeneca is 0.02%. They are have very low percentage, maybe almost people vaccinated in this time, and they don't want mention vaccines in their post.\n",
    "- I do not surprise a lot about distribution of language( en, es, fr, de are on top) and hashtags\n",
    "\n",
    "Mission 3:\n",
    "- The percentage of tweets directly generated by all the 20 media account together is 0.33% lower than their retweets is 1.42%. Ratio ~1:4, that mean each post of media organization have 4 retweet.\n",
    "- The percentage of tweets directly generated by all the 20 NGO or government public officials together is 0.07% lower than their retweets is 0.55%. Ratio ~1:8, that mean each post of NGO or government public officials have 8 retweet.\n",
    "- Compare 2 ratio, maybe people believe NGO or government public officials than media organization.\n",
    "- But the tweets of media organization larger than the tweets of NGO or government public officials, maybe media organization have more post about Covid than NGO or government public officials, and people prefer follow media organization than NGO or government public officials."
   ],
   "metadata": {
    "collapsed": false,
    "pycharm": {
     "name": "#%% md\n"
    }
   }
  }
 ],
 "metadata": {
  "kernelspec": {
   "display_name": "Python 3",
   "language": "python",
   "name": "python3"
  },
  "language_info": {
   "codemirror_mode": {
    "name": "ipython",
    "version": 2
   },
   "file_extension": ".py",
   "mimetype": "text/x-python",
   "name": "python",
   "nbconvert_exporter": "python",
   "pygments_lexer": "ipython2",
   "version": "2.7.6"
  }
 },
 "nbformat": 4,
 "nbformat_minor": 0
}